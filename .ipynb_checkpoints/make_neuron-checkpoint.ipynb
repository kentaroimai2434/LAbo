{
 "cells": [
  {
   "cell_type": "code",
   "execution_count": 1,
   "metadata": {},
   "outputs": [],
   "source": [
    "import numpy as np\n",
    "import random "
   ]
  },
  {
   "cell_type": "code",
   "execution_count": 87,
   "metadata": {},
   "outputs": [],
   "source": [
    "input_nodes = 1\n",
    "num_nodes = 4\n",
    "layer_num = 3"
   ]
  },
  {
   "cell_type": "markdown",
   "metadata": {},
   "source": [
    "### リザーバ内重み"
   ]
  },
  {
   "cell_type": "code",
   "execution_count": 4,
   "metadata": {},
   "outputs": [],
   "source": [
    "w=np.zeros((layer_num, num_nodes, num_nodes))\n",
    "for l in range(layer_num):\n",
    "    for i in range(num_nodes):\n",
    "        if i<num_nodes-1:\n",
    "            w[l,i+1,i] = random.uniform(-1,1)\n",
    "        else:\n",
    "            w[l,0,num_nodes-1] =random.uniform(-1,1)"
   ]
  },
  {
   "cell_type": "code",
   "execution_count": 5,
   "metadata": {
    "scrolled": true
   },
   "outputs": [
    {
     "data": {
      "text/plain": [
       "array([[ 0.        ,  0.        ,  0.        ,  0.        ,  0.33802975],\n",
       "       [ 0.75532164,  0.        ,  0.        ,  0.        ,  0.        ],\n",
       "       [ 0.        , -0.87154175,  0.        ,  0.        ,  0.        ],\n",
       "       [ 0.        ,  0.        ,  0.35389597,  0.        ,  0.        ],\n",
       "       [ 0.        ,  0.        ,  0.        , -0.70477881,  0.        ]])"
      ]
     },
     "execution_count": 5,
     "metadata": {},
     "output_type": "execute_result"
    }
   ],
   "source": [
    "w[0]"
   ]
  },
  {
   "cell_type": "markdown",
   "metadata": {},
   "source": [
    "### リザーバ間重み"
   ]
  },
  {
   "cell_type": "markdown",
   "metadata": {},
   "source": [
    "### DC"
   ]
  },
  {
   "cell_type": "code",
   "execution_count": 6,
   "metadata": {},
   "outputs": [],
   "source": [
    "w=np.zeros((layer_num-1, num_nodes, num_nodes))\n",
    "for l in range(layer_num-1):\n",
    "    for i in range(num_nodes):\n",
    "        w[l,i,i] = random.uniform(-1,1)"
   ]
  },
  {
   "cell_type": "code",
   "execution_count": 7,
   "metadata": {},
   "outputs": [
    {
     "data": {
      "text/plain": [
       "array([[-0.15440998,  0.        ,  0.        ,  0.        ,  0.        ],\n",
       "       [ 0.        , -0.11708861,  0.        ,  0.        ,  0.        ],\n",
       "       [ 0.        ,  0.        ,  0.6698816 ,  0.        ,  0.        ],\n",
       "       [ 0.        ,  0.        ,  0.        ,  0.58454135,  0.        ],\n",
       "       [ 0.        ,  0.        ,  0.        ,  0.        ,  0.49514974]])"
      ]
     },
     "execution_count": 7,
     "metadata": {},
     "output_type": "execute_result"
    }
   ],
   "source": [
    "w[0]"
   ]
  },
  {
   "cell_type": "markdown",
   "metadata": {},
   "source": [
    "### RC"
   ]
  },
  {
   "cell_type": "code",
   "execution_count": 88,
   "metadata": {},
   "outputs": [],
   "source": [
    "weight_res2res = np.zeros((layer_num-1, num_nodes, num_nodes))\n",
    "for l in range(layer_num-1):\n",
    "    weight_connect=list(range(num_nodes))\n",
    "    for i in range(num_nodes):\n",
    "        a=random.randint(0,len(weight_connect)-1)\n",
    "        num = weight_connect.pop(a)\n",
    "        weight_res2res[l,i,num] = random.uniform(-1,1)"
   ]
  },
  {
   "cell_type": "code",
   "execution_count": 90,
   "metadata": {},
   "outputs": [
    {
     "data": {
      "text/plain": [
       "array([[[ 0.        ,  0.        ,  0.        , -0.43231112],\n",
       "        [ 0.        ,  0.        ,  0.09542694,  0.        ],\n",
       "        [ 0.74948817,  0.        ,  0.        ,  0.        ],\n",
       "        [ 0.        , -0.3952357 ,  0.        ,  0.        ]],\n",
       "\n",
       "       [[ 0.        ,  0.        ,  0.79690859,  0.        ],\n",
       "        [ 0.        ,  0.19615121,  0.        ,  0.        ],\n",
       "        [ 0.57139056,  0.        ,  0.        ,  0.        ],\n",
       "        [ 0.        ,  0.        ,  0.        ,  0.28099579]]])"
      ]
     },
     "execution_count": 90,
     "metadata": {},
     "output_type": "execute_result"
    }
   ],
   "source": [
    "weight_res2res"
   ]
  },
  {
   "cell_type": "code",
   "execution_count": null,
   "metadata": {},
   "outputs": [],
   "source": []
  }
 ],
 "metadata": {
  "kernelspec": {
   "display_name": "Python 3",
   "language": "python",
   "name": "python3"
  },
  "language_info": {
   "codemirror_mode": {
    "name": "ipython",
    "version": 3
   },
   "file_extension": ".py",
   "mimetype": "text/x-python",
   "name": "python",
   "nbconvert_exporter": "python",
   "pygments_lexer": "ipython3",
   "version": "3.8.3"
  }
 },
 "nbformat": 4,
 "nbformat_minor": 4
}
