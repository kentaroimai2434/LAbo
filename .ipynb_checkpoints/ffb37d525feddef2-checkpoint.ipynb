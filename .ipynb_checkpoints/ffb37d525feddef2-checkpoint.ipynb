{
 "cells": [
  {
   "cell_type": "code",
   "execution_count": 17,
   "metadata": {},
   "outputs": [],
   "source": [
    "import numpy as np\n",
    "import matplotlib.pyplot as plt\n",
    "import pandas as pd\n",
    "import random\n",
    "import math\n",
    "import sympy as sym\n",
    "from tqdm import tqdm"
   ]
  },
  {
   "cell_type": "code",
   "execution_count": 2,
   "metadata": {},
   "outputs": [],
   "source": [
    "#値\n",
    "x1=[0.1,0.9,0.1,0.9]\n",
    "x2=[0.1,0.1,0.9,0.9]\n",
    "d=[0.1,0.9,0.9,0.1]"
   ]
  },
  {
   "cell_type": "code",
   "execution_count": 3,
   "metadata": {},
   "outputs": [],
   "source": [
    "#シグモイド\n",
    "def sigmoid(u):\n",
    "    e = math.e\n",
    "    fu=1/(1+e**-u)\n",
    "    \n",
    "    return fu"
   ]
  },
  {
   "cell_type": "code",
   "execution_count": 4,
   "metadata": {},
   "outputs": [],
   "source": [
    "#シグモイド(微分)\n",
    "def sigmoid_B(u):\n",
    "    e = math.e\n",
    "    fu=1/(1+e**-u)\n",
    "    fs=(1-fu)*fu\n",
    "    return fs"
   ]
  },
  {
   "cell_type": "code",
   "execution_count": 5,
   "metadata": {},
   "outputs": [],
   "source": [
    "#シグモイド(微分)\n",
    "def sigmoid_B2(u):\n",
    "    e = math.e\n",
    "    fu=1/(1+e**-u)\n",
    "    fs=(1-fu)*fu\n",
    "    return fs"
   ]
  },
  {
   "cell_type": "code",
   "execution_count": 6,
   "metadata": {},
   "outputs": [],
   "source": [
    "#中間層ニューロン\n",
    "def t1_nuron(W11,W12,x1,x2,b1):\n",
    "    u=W11*x1+W12*x2-b1\n",
    "    y1 = sigmoid(u)\n",
    "    return y1"
   ]
  },
  {
   "cell_type": "code",
   "execution_count": 7,
   "metadata": {},
   "outputs": [],
   "source": [
    "#中間層ニューロン(2番目)\n",
    "def t2_nuron(W21,W22,x1,x2,b2):\n",
    "    u=W21*x1+W22*x2-b2\n",
    "    y2 = sigmoid(u)\n",
    "    return y2"
   ]
  },
  {
   "cell_type": "code",
   "execution_count": 8,
   "metadata": {},
   "outputs": [],
   "source": [
    "#出力層ニューロン\n",
    "def s_nuron(W1,W2,y1,y2,bo):\n",
    "    u=W1*y1+W2*y2-bo\n",
    "    yo = sigmoid(u)\n",
    "    return yo"
   ]
  },
  {
   "cell_type": "code",
   "execution_count": 9,
   "metadata": {},
   "outputs": [],
   "source": [
    "#バックプロバケーション学習測(1)\n",
    "def bp_1(W1,n,d,yo,fs,y1):\n",
    "    W1next = W1+n*(d-yo)*fs*y1\n",
    "    return W1next"
   ]
  },
  {
   "cell_type": "code",
   "execution_count": 10,
   "metadata": {},
   "outputs": [],
   "source": [
    "#バックプロバケーション学習測(2)\n",
    "def bp_2(W2,n,d,yo,fs,y2):\n",
    "    W2next = W2+n*(d-yo)*fs*y2\n",
    "    return W2next"
   ]
  },
  {
   "cell_type": "code",
   "execution_count": 11,
   "metadata": {},
   "outputs": [],
   "source": [
    "#バイアス\n",
    "def bias(B,n,d,yo):\n",
    "    Bnext=B+n*(d-yo)*1\n",
    "    return Bnext"
   ]
  },
  {
   "cell_type": "code",
   "execution_count": 18,
   "metadata": {},
   "outputs": [
    {
     "name": "stderr",
     "output_type": "stream",
     "text": [
      "100%|█████████████████████████████████████████████████████████████████████████| 30000/30000 [00:00<00:00, 40687.06it/s]\n"
     ]
    }
   ],
   "source": [
    "W11 =0.01\n",
    "W12 =0.01\n",
    "W21 =0.01\n",
    "W22 =0.01\n",
    "W1=0.01\n",
    "W2=0.01\n",
    "b1=0.05\n",
    "b2=0.05\n",
    "bo=0.05\n",
    "n=0.01\n",
    "for k in tqdm(range(30000)):   \n",
    "    Yo=[]\n",
    "    for p in range(4):\n",
    "        y1=t1_nuron(W11,W12,x1[p],x2[p],b1)\n",
    "        y1_save.append(y1)\n",
    "        y2=t2_nuron(W21,W22,x1[p],x2[p],b2)\n",
    "        y2_save.append(y2)\n",
    "        yo=s_nuron(W1,W2,y1,y2,bo)\n",
    "        Yo.append(yo)\n",
    "        \n",
    "        \n",
    "        uo=W1*y1+W2*y2+bo\n",
    "        fs=sigmoid_B(uo)\n",
    "        W1next=bp_1(W1,n,d[p],yo,fs,y1)\n",
    "        W2next=bp_2(W2,n,d[p],yo,fs,y2)\n",
    "        W1=W1next\n",
    "        W_1.append(W1)\n",
    "        W2=W2next\n",
    "        W_2.append(W2)\n",
    "        Bnext=bias(bo,n,d[p],yo)\n",
    "        B=Bnext\n",
    "        \n",
    "        #中間層１　学習信号\n",
    "        u1=W11*x1[p]+W12*x2[p]+b1\n",
    "        fs1=sigmoid_B(u1)\n",
    "        d1=fs1*(d[p]-y1)*fs*W1\n",
    "        d1_save.append(d1)\n",
    "        W11next=W11+n*d1*x1[p]\n",
    "        W11=W11next\n",
    "        W12next=W12+n*d1*x2[p]\n",
    "        W12=W12next\n",
    "        \n",
    "        #中間層2　学習信号\n",
    "        u2=W21*x1[p]+W22*x2[p]+b2\n",
    "        fs2=sigmoid_B(u2)\n",
    "        d2=fs2*(d[p]-y2)*fs*W2\n",
    "        d2_save.append(d2)\n",
    "        W21next=W21+n*d2*x1[p]\n",
    "        W21=W21next\n",
    "        W22next=W22+n*d2*x2[p]\n",
    "        W22=W22next"
   ]
  },
  {
   "cell_type": "code",
   "execution_count": 19,
   "metadata": {},
   "outputs": [
    {
     "name": "stdout",
     "output_type": "stream",
     "text": [
      "[0.49972072597123157, 0.49926397651094373, 0.5001330912478343, 0.5009304406526969]\n"
     ]
    }
   ],
   "source": [
    "print(Yo)"
   ]
  },
  {
   "cell_type": "code",
   "execution_count": null,
   "metadata": {},
   "outputs": [],
   "source": []
  }
 ],
 "metadata": {
  "kernelspec": {
   "display_name": "Python 3",
   "language": "python",
   "name": "python3"
  },
  "language_info": {
   "codemirror_mode": {
    "name": "ipython",
    "version": 3
   },
   "file_extension": ".py",
   "mimetype": "text/x-python",
   "name": "python",
   "nbconvert_exporter": "python",
   "pygments_lexer": "ipython3",
   "version": "3.8.3"
  }
 },
 "nbformat": 4,
 "nbformat_minor": 4
}
