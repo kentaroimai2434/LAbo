{
 "cells": [
  {
   "cell_type": "markdown",
   "metadata": {},
   "source": [
    "## この問題は需要予測，株価予測などの時系列予測とかをやりたい人は勉強しておくと後々楽\n",
    "興味ある人は調べるか聞くかして"
   ]
  },
  {
   "cell_type": "code",
   "execution_count": 11,
   "metadata": {},
   "outputs": [],
   "source": [
    "import numpy as np\n",
    "import matplotlib.pyplot as plt\n",
    "import pandas as pd\n",
    "import random\n",
    "from sklearn.metrics import mean_squared_error as MSE\n",
    "from tqdm import tqdm #使えると便利　プログレスバーの表示"
   ]
  },
  {
   "cell_type": "markdown",
   "metadata": {},
   "source": [
    "### 学習データ"
   ]
  },
  {
   "cell_type": "code",
   "execution_count": 2,
   "metadata": {},
   "outputs": [],
   "source": [
    "X=[0.1, 0.3, 0.5, 0.7, 0.9] #入力データ配列\n",
    "d=[0.3381, 0.6658, 0.8627, 1.2297, 1.6574] #望ましい出力データ配列　(正解データ，教師データともいう)"
   ]
  },
  {
   "cell_type": "code",
   "execution_count": 12,
   "metadata": {},
   "outputs": [],
   "source": [
    "X=[0.20, 0.30, 0.40, 0.50] #入力データ配列  20歳，３０際，４０歳，５０歳　計算を楽にするため１/１００に\n",
    "d=[0.371, 0.484, 0.573, 0.661] #望ましい出力データ配列　(正解データ，教師データともいう)　平均年収　"
   ]
  },
  {
   "cell_type": "code",
   "execution_count": 4,
   "metadata": {},
   "outputs": [],
   "source": [
    "line=[d[0],d[-1]]\n",
    "line_x=[X[0],X[-1]]"
   ]
  },
  {
   "cell_type": "code",
   "execution_count": 13,
   "metadata": {},
   "outputs": [
    {
     "data": {
      "text/plain": [
       "[<matplotlib.lines.Line2D at 0x249a0d5f340>]"
      ]
     },
     "execution_count": 13,
     "metadata": {},
     "output_type": "execute_result"
    },
    {
     "data": {
      "image/png": "[encoded data removed]",
      "text/plain": [
       "<Figure size 432x288 with 1 Axes>"
      ]
     },
     "metadata": {
      "needs_background": "light"
     },
     "output_type": "display_data"
    }
   ],
   "source": [
    "plt.scatter(X,d,color='r')\n",
    "#plt.plot(X,d)\n",
    "plt.plot(line_x,line)"
   ]
  },
  {
   "cell_type": "markdown",
   "metadata": {},
   "source": [
    "### ニューロンの内部状態方程式"
   ]
  },
  {
   "cell_type": "code",
   "execution_count": 14,
   "metadata": {},
   "outputs": [],
   "source": [
    "def Neuron(w,x,b): #重み，入力，バイアスを受け取りYを出力する関数\n",
    "    Y=w*x+b\n",
    "     return Y"
   ]
  },
  {
   "cell_type": "markdown",
   "metadata": {},
   "source": [
    "### 重み更新"
   ]
  },
  {
   "cell_type": "code",
   "execution_count": 15,
   "metadata": {},
   "outputs": [],
   "source": [
    "def Weight(w,d,y,x,lr): #重み，正解データ，出力，入力を受け取り重み更新\n",
    "    W_next=w+lr*(d-y)*x\n",
    "    return W_next"
   ]
  },
  {
   "cell_type": "markdown",
   "metadata": {},
   "source": [
    "### バイアス更新"
   ]
  },
  {
   "cell_type": "code",
   "execution_count": 16,
   "metadata": {},
   "outputs": [],
   "source": [
    "def Bias(b,d,y,x,lr): #重み，正解データ，出力，入力を受け取りバイアス更新\n",
    "    b_next=b+lr*(d-y)*1\n",
    "    return b_next"
   ]
  },
  {
   "cell_type": "markdown",
   "metadata": {},
   "source": [
    "### 計算"
   ]
  },
  {
   "cell_type": "code",
   "execution_count": 40,
   "metadata": {},
   "outputs": [
    {
     "name": "stderr",
     "output_type": "stream",
     "text": [
      "100%|██████████████████████████████████████████████████████████████████████████████| 100/100 [00:00<00:00, 7162.77it/s]"
     ]
    },
    {
     "name": "stdout",
     "output_type": "stream",
     "text": [
      "学習回数上限\n",
      "RMSE 0.08591459647333509\n"
     ]
    },
    {
     "name": "stderr",
     "output_type": "stream",
     "text": [
      "\n"
     ]
    }
   ],
   "source": [
    "w = random.uniform(-0.001,0.001)#(絶対値0.001以下のfloat) \n",
    "b = random.uniform(-0.001,0.001)\n",
    "lr=0.01 #表記されているもの　learning ratetと呼ばれていてどのくらい学習するのか決める　0.001～１の範囲で変更してみること\n",
    "K_num=100 #学習回数\n",
    "target_RMSE=0.015 # RMSE MSE等の計算方法は後々使うので軽く調べておくと後々楽　(損失関数)\n",
    "Error = []\n",
    "\n",
    "for k in tqdm(range(K_num)):\n",
    "    List_y=[]\n",
    "    for i in range(len(X)):\n",
    "        y = Neuron(w,X[i],b)\n",
    "        List_y.append(y)\n",
    "        w = Weight(w,d[i],y,X[i],lr)\n",
    "        b = Bias(b,d[i],y,X[i],lr)\n",
    "    w_list.append(w)\n",
    "    b_list.append(b)\n",
    "    RMSE=np.sqrt(MSE(d,List_y))\n",
    "    Error.append(RMSE)\n",
    "    if RMSE<=target_RMSE: \n",
    "        print('学習完了')\n",
    "        print(k,'epoch')\n",
    "        print('RMSE',RMSE)\n",
    "        break\n",
    "        \n",
    "if k+1==K_num:\n",
    "    print('学習回数上限')\n",
    "    print('RMSE',RMSE)"
   ]
  },
  {
   "cell_type": "markdown",
   "metadata": {},
   "source": [
    "### 結果確認 \n",
    "ここのプログラムはまだ勉強しなくて大丈夫"
   ]
  },
  {
   "cell_type": "code",
   "execution_count": 29,
   "metadata": {},
   "outputs": [
    {
     "data": {
      "text/html": [
       "<div>\n",
       "<style scoped>\n",
       "    .dataframe tbody tr th:only-of-type {\n",
       "        vertical-align: middle;\n",
       "    }\n",
       "\n",
       "    .dataframe tbody tr th {\n",
       "        vertical-align: top;\n",
       "    }\n",
       "\n",
       "    .dataframe thead th {\n",
       "        text-align: right;\n",
       "    }\n",
       "</style>\n",
       "<table border=\"1\" class=\"dataframe\">\n",
       "  <thead>\n",
       "    <tr style=\"text-align: right;\">\n",
       "      <th></th>\n",
       "      <th>出力</th>\n",
       "      <th>望ましい出力</th>\n",
       "    </tr>\n",
       "  </thead>\n",
       "  <tbody>\n",
       "    <tr>\n",
       "      <th>0</th>\n",
       "      <td>0.410708</td>\n",
       "      <td>0.371</td>\n",
       "    </tr>\n",
       "    <tr>\n",
       "      <th>1</th>\n",
       "      <td>0.485393</td>\n",
       "      <td>0.484</td>\n",
       "    </tr>\n",
       "    <tr>\n",
       "      <th>2</th>\n",
       "      <td>0.560476</td>\n",
       "      <td>0.573</td>\n",
       "    </tr>\n",
       "    <tr>\n",
       "      <th>3</th>\n",
       "      <td>0.635724</td>\n",
       "      <td>0.661</td>\n",
       "    </tr>\n",
       "  </tbody>\n",
       "</table>\n",
       "</div>"
      ],
      "text/plain": [
       "         出力  望ましい出力\n",
       "0  0.410708   0.371\n",
       "1  0.485393   0.484\n",
       "2  0.560476   0.573\n",
       "3  0.635724   0.661"
      ]
     },
     "execution_count": 29,
     "metadata": {},
     "output_type": "execute_result"
    }
   ],
   "source": [
    "df_predected=  pd.DataFrame(List_y)\n",
    "df_Answer=pd.DataFrame(d)\n",
    "df_result=pd.concat([df_predected,df_Answer],axis=1)\n",
    "df_result.columns=['出力','望ましい出力']\n",
    "df_result"
   ]
  },
  {
   "cell_type": "markdown",
   "metadata": {},
   "source": [
    "### 学習曲線"
   ]
  },
  {
   "cell_type": "code",
   "execution_count": 28,
   "metadata": {
    "scrolled": true
   },
   "outputs": [
    {
     "ename": "SyntaxError",
     "evalue": "invalid syntax (<ipython-input-28-accd4397f239>, line 1)",
     "output_type": "error",
     "traceback": [
      "\u001b[1;36m  File \u001b[1;32m\"<ipython-input-28-accd4397f239>\"\u001b[1;36m, line \u001b[1;32m1\u001b[0m\n\u001b[1;33m    pip install japanize-matplotlib\u001b[0m\n\u001b[1;37m        ^\u001b[0m\n\u001b[1;31mSyntaxError\u001b[0m\u001b[1;31m:\u001b[0m invalid syntax\n"
     ]
    }
   ],
   "source": [
    "pip install japanize-matplotlib\n",
    "#pltのグラフタイトル等に日本語を表示できるようにする機能追加\n",
    "#一回実行すればダウンロードされるから二回目からはやらなくてOK"
   ]
  },
  {
   "cell_type": "code",
   "execution_count": 30,
   "metadata": {},
   "outputs": [],
   "source": [
    "import japanize_matplotlib"
   ]
  },
  {
   "cell_type": "code",
   "execution_count": 37,
   "metadata": {},
   "outputs": [
    {
     "data": {
      "text/plain": [
       "Text(0.5, 1.0, '学習曲線')"
      ]
     },
     "execution_count": 37,
     "metadata": {},
     "output_type": "execute_result"
    },
    {
     "data": {
      "image/png": "[encoded data removed]",
      "text/plain": [
       "<Figure size 432x288 with 1 Axes>"
      ]
     },
     "metadata": {
      "needs_background": "light"
     },
     "output_type": "display_data"
    }
   ],
   "source": [
    "plt.plot(Error,label='RMSE')\n",
    "plt.legend()\n",
    "plt.xlabel('試行回数')\n",
    "plt.ylabel('RMSE')\n",
    "plt.title('学習曲線')"
   ]
  },
  {
   "cell_type": "code",
   "execution_count": null,
   "metadata": {},
   "outputs": [],
   "source": []
  },
  {
   "cell_type": "code",
   "execution_count": null,
   "metadata": {},
   "outputs": [],
   "source": []
  }
 ],
 "metadata": {
  "kernelspec": {
   "display_name": "Python 3",
   "language": "python",
   "name": "python3"
  },
  "language_info": {
   "codemirror_mode": {
    "name": "ipython",
    "version": 3
   },
   "file_extension": ".py",
   "mimetype": "text/x-python",
   "name": "python",
   "nbconvert_exporter": "python",
   "pygments_lexer": "ipython3",
   "version": "3.8.3"
  }
 },
 "nbformat": 4,
 "nbformat_minor": 4
}
