{
 "cells": [
  {
   "cell_type": "code",
   "execution_count": 1,
   "metadata": {},
   "outputs": [],
   "source": [
    "import numpy as np\n",
    "import math\n",
    "import matplotlib.pyplot as plt\n",
    "import pandas as pd\n",
    "import random\n",
    "from sklearn.metrics import mean_squared_error as MSE\n",
    "from tqdm import tqdm #使えると便利　プログレスバーの表示\n",
    "import random"
   ]
  },
  {
   "cell_type": "markdown",
   "metadata": {},
   "source": [
    "### 教師データ"
   ]
  },
  {
   "cell_type": "code",
   "execution_count": 2,
   "metadata": {},
   "outputs": [],
   "source": [
    "x1=[0.1, 0.9, 0.1, 0.9]\n",
    "x2=[0.1, 0.1, 0.9, 0.9]\n",
    "d=[0.1, 0.9, 0.9, 0.1]"
   ]
  },
  {
   "cell_type": "markdown",
   "metadata": {},
   "source": [
    "## 活性化関数(シグモイド)"
   ]
  },
  {
   "cell_type": "code",
   "execution_count": 3,
   "metadata": {},
   "outputs": [],
   "source": [
    "def sigmoid(u):\n",
    "    Activated_u = 1/(1+math.exp(-u)) \n",
    "    return Activated_u"
   ]
  },
  {
   "cell_type": "markdown",
   "metadata": {},
   "source": [
    "## 中間層"
   ]
  },
  {
   "cell_type": "markdown",
   "metadata": {},
   "source": [
    "#### 状態方程式"
   ]
  },
  {
   "cell_type": "code",
   "execution_count": 4,
   "metadata": {},
   "outputs": [],
   "source": [
    "def mid_neuron(w1, x1, w2, x2, sita_mid, BP=False):\n",
    "    mid_state = w1*x1+w2*x2+sita_mid\n",
    "    mid_out = sigmoid(mid_state)\n",
    "    if BP == True:\n",
    "        return mid_state\n",
    "    return mid_out"
   ]
  },
  {
   "cell_type": "markdown",
   "metadata": {},
   "source": [
    "#### 重み更新"
   ]
  },
  {
   "cell_type": "code",
   "execution_count": 5,
   "metadata": {},
   "outputs": [],
   "source": [
    "def weight_mid(w, lr, signal, x):\n",
    "    weight_mid_next  = w+lr*signal*x\n",
    "    return  weight_mid_next"
   ]
  },
  {
   "cell_type": "markdown",
   "metadata": {},
   "source": [
    "#### バイアス更新"
   ]
  },
  {
   "cell_type": "code",
   "execution_count": 6,
   "metadata": {},
   "outputs": [],
   "source": [
    "def bias_mid(sita, lr, signal):\n",
    "    bias_mid_next  = sita+lr*signal*1\n",
    "    return bias_mid_next"
   ]
  },
  {
   "cell_type": "markdown",
   "metadata": {},
   "source": [
    "#### 学習信号の計算"
   ]
  },
  {
   "cell_type": "code",
   "execution_count": 7,
   "metadata": {},
   "outputs": [],
   "source": [
    "def learning_signal(u_mid, d, out, u_out,weight_out):\n",
    "    signal =(1-sigmoid(u_mid))*sigmoid(u_mid)*(d-out)*(1-sigmoid(u_out))*sigmoid(u_out)*weight_out\n",
    "    return signal"
   ]
  },
  {
   "cell_type": "markdown",
   "metadata": {},
   "source": [
    "## 出力層 "
   ]
  },
  {
   "cell_type": "markdown",
   "metadata": {},
   "source": [
    "#### 状態方程式"
   ]
  },
  {
   "cell_type": "code",
   "execution_count": 8,
   "metadata": {},
   "outputs": [],
   "source": [
    "def out_neuron(w1, y1, w2, y2, sita_out, BP=False):\n",
    "    out_state = w1*y1+w2*y2+sita_out \n",
    "    output= sigmoid(out_state)\n",
    "    if BP == True:\n",
    "        return out_state\n",
    "    return output"
   ]
  },
  {
   "cell_type": "markdown",
   "metadata": {},
   "source": [
    "#### 重み更新"
   ]
  },
  {
   "cell_type": "code",
   "execution_count": 9,
   "metadata": {},
   "outputs": [],
   "source": [
    "def weight_out(w, lr, d, out, u, mid_out):\n",
    "    weight_out_next = w+lr*(d-out)*(1-sigmoid(u))*sigmoid(u)*mid_out \n",
    "    return weight_out_next"
   ]
  },
  {
   "cell_type": "markdown",
   "metadata": {},
   "source": [
    "#### バイアス更新"
   ]
  },
  {
   "cell_type": "code",
   "execution_count": 10,
   "metadata": {},
   "outputs": [],
   "source": [
    "def bias_out(sita, lr, d, out, u):\n",
    "    bias_out_next = sita+lr*(d-out)*(1-sigmoid(u))*sigmoid(u)*1\n",
    "    return bias_out_next"
   ]
  },
  {
   "cell_type": "markdown",
   "metadata": {},
   "source": [
    "### 重みと閾値の初期値"
   ]
  },
  {
   "cell_type": "code",
   "execution_count": 11,
   "metadata": {},
   "outputs": [],
   "source": [
    "w1 = random.uniform(-0.001,0.001)\n",
    "w2 = random.uniform(-0.001,0.001)\n",
    "w11 = random.uniform(-0.001,0.001)\n",
    "w12 = random.uniform(-0.001,0.001)\n",
    "w21 = random.uniform(-0.001,0.001)\n",
    "w22 = random.uniform(-0.001,0.001)\n",
    "sita = random.uniform(-0.001,0.001)\n",
    "sita1 = random.uniform(-0.001,0.001)\n",
    "sita2 = random.uniform(-0.001,0.001)"
   ]
  },
  {
   "cell_type": "markdown",
   "metadata": {},
   "source": [
    "## 計算"
   ]
  },
  {
   "cell_type": "code",
   "execution_count": 12,
   "metadata": {},
   "outputs": [],
   "source": [
    "lr = 0.01\n",
    "epoc = 30000#学習回数"
   ]
  },
  {
   "cell_type": "code",
   "execution_count": 13,
   "metadata": {},
   "outputs": [
    {
     "name": "stderr",
     "output_type": "stream",
     "text": [
      "100%|██████████████████████████████████████████████████████████████████████████| 30000/30000 [00:04<00:00, 6364.40it/s]\n"
     ]
    }
   ],
   "source": [
    "rmse=[]\n",
    "for i in tqdm(range(epoc)):\n",
    "    y_save=[]\n",
    "    for j in range(len(x1)):\n",
    "        #各層の出力計算\n",
    "        y1 = mid_neuron(w11, x1[j], w12, x2[j], sita1)\n",
    "        y2 = mid_neuron(w21, x1[j], w22, x2[j], sita2)\n",
    "        y = out_neuron(w1, y1, w2, y2, sita) \n",
    "        y_save.append(y)\n",
    "           \n",
    "        #出力層更新\n",
    "        u = out_neuron(w1, y1, w2, y2, sita, BP=True)\n",
    "        w1 = weight_out(w1, lr, d[j], y, u, y1)\n",
    "        w2 = weight_out(w2, lr, d[j], y, u, y2)\n",
    "        sita = bias_out(sita, lr, d[j], y, u)\n",
    "        \n",
    "        #中間層更新 \n",
    "        #各層の状態取得\n",
    "        u = out_neuron(w1, y1, w2, y2, sita, BP=True)\n",
    "        u1 = mid_neuron(w11, x1[j], w12, x2[j], sita1, BP=True)\n",
    "        u2 = mid_neuron(w21, x1[j], w22, x2[j], sita2, BP=True)\n",
    "        \n",
    "        #中間層1番目のニューロン更新\n",
    "        signal_1 =  learning_signal(u1, d[j], y, u, w1)\n",
    "        w11 = weight_mid(w11, lr, signal_1, x1[j])\n",
    "        w12 = weight_mid(w12, lr, signal_1, x2[j])\n",
    "        sita1 = bias_mid(sita1, lr, signal_1)\n",
    "        \n",
    "        #中間層2番目のニューロン更新\n",
    "        signal_2 =  learning_signal(u2, d[j], y, u, w2)\n",
    "        w21 = weight_mid(w21, lr, signal_2, x1[j])\n",
    "        w22 = weight_mid(w22, lr, signal_2, x2[j])\n",
    "        sita2 = bias_mid(sita2, lr, signal_2)\n",
    "    \n",
    "    error = np.sqrt(MSE(d,y_save))\n",
    "    rmse.append(error)"
   ]
  },
  {
   "cell_type": "code",
   "execution_count": 14,
   "metadata": {},
   "outputs": [
    {
     "name": "stdout",
     "output_type": "stream",
     "text": [
      "[0.49999971358814244, 0.49962364300186934, 0.49999993903820916, 0.5003764798920451]\n"
     ]
    }
   ],
   "source": [
    "print(y_save)"
   ]
  },
  {
   "cell_type": "code",
   "execution_count": 15,
   "metadata": {},
   "outputs": [
    {
     "data": {
      "text/plain": [
       "[<matplotlib.lines.Line2D at 0x24ed805bd60>]"
      ]
     },
     "execution_count": 15,
     "metadata": {},
     "output_type": "execute_result"
    },
    {
     "data": {
      "image/png": "[encoded data removed]",
      "text/plain": [
       "<Figure size 432x288 with 1 Axes>"
      ]
     },
     "metadata": {
      "needs_background": "light"
     },
     "output_type": "display_data"
    }
   ],
   "source": [
    "plt.plot(rmse)"
   ]
  },
  {
   "cell_type": "code",
   "execution_count": null,
   "metadata": {},
   "outputs": [],
   "source": []
  }
 ],
 "metadata": {
  "kernelspec": {
   "display_name": "Python 3",
   "language": "python",
   "name": "python3"
  },
  "language_info": {
   "codemirror_mode": {
    "name": "ipython",
    "version": 3
   },
   "file_extension": ".py",
   "mimetype": "text/x-python",
   "name": "python",
   "nbconvert_exporter": "python",
   "pygments_lexer": "ipython3",
   "version": "3.8.3"
  }
 },
 "nbformat": 4,
 "nbformat_minor": 4
}
