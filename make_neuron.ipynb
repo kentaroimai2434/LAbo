{
 "cells": [
  {
   "cell_type": "code",
   "execution_count": 22,
   "metadata": {},
   "outputs": [],
   "source": [
    "import numpy as np\n",
    "import random \n",
    "from signalz import mackey_glass\n",
    "import matplotlib.pyplot as plt"
   ]
  },
  {
   "cell_type": "code",
   "execution_count": 36,
   "metadata": {},
   "outputs": [],
   "source": [
    "a = mackey_glass(1200, a=0.2, b=1, c=0.1, d=17, e=10)"
   ]
  },
  {
   "cell_type": "code",
   "execution_count": 39,
   "metadata": {},
   "outputs": [
    {
     "data": {
      "text/plain": [
       "[<matplotlib.lines.Line2D at 0x21e9266a460>]"
      ]
     },
     "execution_count": 39,
     "metadata": {},
     "output_type": "execute_result"
    },
    {
     "data": {
      "image/png": "[encoded data removed]",
      "text/plain": [
       "<Figure size 432x288 with 1 Axes>"
      ]
     },
     "metadata": {
      "needs_background": "light"
     },
     "output_type": "display_data"
    }
   ],
   "source": [
    "plt.plot(a)"
   ]
  },
  {
   "cell_type": "code",
   "execution_count": 2,
   "metadata": {},
   "outputs": [],
   "source": [
    "input_nodes = 1\n",
    "num_nodes = 4\n",
    "layer_num = 3"
   ]
  },
  {
   "cell_type": "markdown",
   "metadata": {},
   "source": [
    "### リザーバ内重み"
   ]
  },
  {
   "cell_type": "code",
   "execution_count": 11,
   "metadata": {},
   "outputs": [
    {
     "data": {
      "text/plain": [
       "-2"
      ]
     },
     "execution_count": 11,
     "metadata": {},
     "output_type": "execute_result"
    }
   ],
   "source": [
    "2*"
   ]
  },
  {
   "cell_type": "code",
   "execution_count": 15,
   "metadata": {},
   "outputs": [],
   "source": [
    "w=np.zeros((layer_num, num_nodes, num_nodes))\n",
    "r = random.uniform(-1,1)\n",
    "PM=[-1,1]\n",
    "for l in range(layer_num):\n",
    "    \n",
    "    for i in range(num_nodes):\n",
    "        if i<num_nodes-1:\n",
    "            w[l,i+1,i] = r*random.choice(PM)\n",
    "        else:\n",
    "            w[l,0,num_nodes-1] = r*random.choice(PM)"
   ]
  },
  {
   "cell_type": "code",
   "execution_count": 16,
   "metadata": {
    "scrolled": true
   },
   "outputs": [
    {
     "data": {
      "text/plain": [
       "array([[[ 0.        ,  0.        ,  0.        , -0.16023037],\n",
       "        [-0.16023037,  0.        ,  0.        ,  0.        ],\n",
       "        [ 0.        , -0.16023037,  0.        ,  0.        ],\n",
       "        [ 0.        ,  0.        , -0.16023037,  0.        ]],\n",
       "\n",
       "       [[ 0.        ,  0.        ,  0.        , -0.16023037],\n",
       "        [ 0.16023037,  0.        ,  0.        ,  0.        ],\n",
       "        [ 0.        ,  0.16023037,  0.        ,  0.        ],\n",
       "        [ 0.        ,  0.        , -0.16023037,  0.        ]],\n",
       "\n",
       "       [[ 0.        ,  0.        ,  0.        ,  0.16023037],\n",
       "        [-0.16023037,  0.        ,  0.        ,  0.        ],\n",
       "        [ 0.        , -0.16023037,  0.        ,  0.        ],\n",
       "        [ 0.        ,  0.        ,  0.16023037,  0.        ]]])"
      ]
     },
     "execution_count": 16,
     "metadata": {},
     "output_type": "execute_result"
    }
   ],
   "source": [
    "w"
   ]
  },
  {
   "cell_type": "markdown",
   "metadata": {},
   "source": [
    "### リザーバ間重み"
   ]
  },
  {
   "cell_type": "markdown",
   "metadata": {},
   "source": [
    "### DC"
   ]
  },
  {
   "cell_type": "code",
   "execution_count": 6,
   "metadata": {},
   "outputs": [],
   "source": [
    "w=np.zeros((layer_num-1, num_nodes, num_nodes))\n",
    "for l in range(layer_num-1):\n",
    "    for i in range(num_nodes):\n",
    "        w[l,i,i] = random.uniform(-1,1)"
   ]
  },
  {
   "cell_type": "code",
   "execution_count": 7,
   "metadata": {},
   "outputs": [
    {
     "data": {
      "text/plain": [
       "array([[-0.15440998,  0.        ,  0.        ,  0.        ,  0.        ],\n",
       "       [ 0.        , -0.11708861,  0.        ,  0.        ,  0.        ],\n",
       "       [ 0.        ,  0.        ,  0.6698816 ,  0.        ,  0.        ],\n",
       "       [ 0.        ,  0.        ,  0.        ,  0.58454135,  0.        ],\n",
       "       [ 0.        ,  0.        ,  0.        ,  0.        ,  0.49514974]])"
      ]
     },
     "execution_count": 7,
     "metadata": {},
     "output_type": "execute_result"
    }
   ],
   "source": [
    "w[0]"
   ]
  },
  {
   "cell_type": "markdown",
   "metadata": {},
   "source": [
    "### RC"
   ]
  },
  {
   "cell_type": "code",
   "execution_count": 88,
   "metadata": {},
   "outputs": [],
   "source": [
    "weight_res2res = np.zeros((layer_num-1, num_nodes, num_nodes))\n",
    "for l in range(layer_num-1):\n",
    "    weight_connect=list(range(num_nodes))\n",
    "    for i in range(num_nodes):\n",
    "        a=random.randint(0,len(weight_connect)-1)\n",
    "        num = weight_connect.pop(a)\n",
    "        weight_res2res[l,i,num] = random.uniform(-1,1)"
   ]
  },
  {
   "cell_type": "code",
   "execution_count": 90,
   "metadata": {},
   "outputs": [
    {
     "data": {
      "text/plain": [
       "array([[[ 0.        ,  0.        ,  0.        , -0.43231112],\n",
       "        [ 0.        ,  0.        ,  0.09542694,  0.        ],\n",
       "        [ 0.74948817,  0.        ,  0.        ,  0.        ],\n",
       "        [ 0.        , -0.3952357 ,  0.        ,  0.        ]],\n",
       "\n",
       "       [[ 0.        ,  0.        ,  0.79690859,  0.        ],\n",
       "        [ 0.        ,  0.19615121,  0.        ,  0.        ],\n",
       "        [ 0.57139056,  0.        ,  0.        ,  0.        ],\n",
       "        [ 0.        ,  0.        ,  0.        ,  0.28099579]]])"
      ]
     },
     "execution_count": 90,
     "metadata": {},
     "output_type": "execute_result"
    }
   ],
   "source": [
    "weight_res2res"
   ]
  },
  {
   "cell_type": "code",
   "execution_count": null,
   "metadata": {},
   "outputs": [],
   "source": []
  }
 ],
 "metadata": {
  "kernelspec": {
   "display_name": "Python 3",
   "language": "python",
   "name": "python3"
  },
  "language_info": {
   "codemirror_mode": {
    "name": "ipython",
    "version": 3
   },
   "file_extension": ".py",
   "mimetype": "text/x-python",
   "name": "python",
   "nbconvert_exporter": "python",
   "pygments_lexer": "ipython3",
   "version": "3.8.3"
  }
 },
 "nbformat": 4,
 "nbformat_minor": 4
}
