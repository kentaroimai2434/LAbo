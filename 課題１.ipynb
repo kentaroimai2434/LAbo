{
 "cells": [
  {
   "cell_type": "code",
   "execution_count": 1,
   "metadata": {},
   "outputs": [],
   "source": [
    "import numpy as np\n",
    "import matplotlib.pyplot as plt\n",
    "import pandas as pd"
   ]
  },
  {
   "cell_type": "markdown",
   "metadata": {},
   "source": [
    "(1)"
   ]
  },
  {
   "cell_type": "code",
   "execution_count": 2,
   "metadata": {},
   "outputs": [
    {
     "name": "stdout",
     "output_type": "stream",
     "text": [
      "Requirement already satisfied: jpholiday in c:\\users\\likes\\anaconda3\\lib\\site-packages (0.1.5)\n",
      "Note: you may need to restart the kernel to use updated packages.\n"
     ]
    }
   ],
   "source": [
    "pip install jpholiday"
   ]
  },
  {
   "cell_type": "code",
   "execution_count": 3,
   "metadata": {},
   "outputs": [
    {
     "data": {
      "text/plain": [
       "[<matplotlib.lines.Line2D at 0x2628917a130>]"
      ]
     },
     "execution_count": 3,
     "metadata": {},
     "output_type": "execute_result"
    },
    {
     "data": {
      "image/png": "[encoded data removed]",
      "text/plain": [
       "<Figure size 1440x432 with 1 Axes>"
      ]
     },
     "metadata": {
      "needs_background": "light"
     },
     "output_type": "display_data"
    }
   ],
   "source": [
    "X=0.3#正規化個体数\n",
    "a=4.1#出生率\n",
    "year=[]\n",
    "Xn=[]\n",
    "Xn1=[]\n",
    "\n",
    "for i in range(1,101):\n",
    "    year.append(i)\n",
    "    Xn.append(X)\n",
    "########################\n",
    "    Xnext=a*X*(1-X)\n",
    "########################\n",
    "    Xn1.append(Xnext)\n",
    "    X=Xnext\n",
    "    \n",
    "plt.figure(figsize=(20,6))\n",
    "plt.grid()\n",
    "plt.plot(Xn)"
   ]
  },
  {
   "cell_type": "markdown",
   "metadata": {},
   "source": [
    "(2)"
   ]
  },
  {
   "cell_type": "code",
   "execution_count": 4,
   "metadata": {},
   "outputs": [
    {
     "data": {
      "text/plain": [
       "<matplotlib.collections.PathCollection at 0x262891e7760>"
      ]
     },
     "execution_count": 4,
     "metadata": {},
     "output_type": "execute_result"
    },
    {
     "data": {
      "image/png": "[encoded data removed]",
      "text/plain": [
       "<Figure size 432x432 with 1 Axes>"
      ]
     },
     "metadata": {
      "needs_background": "light"
     },
     "output_type": "display_data"
    }
   ],
   "source": [
    "plt.figure(figsize=(6, 6))\n",
    "plt.grid() \n",
    "plt.scatter(Xn,Xn1)"
   ]
  },
  {
   "cell_type": "markdown",
   "metadata": {},
   "source": [
    "(3)"
   ]
  },
  {
   "cell_type": "code",
   "execution_count": 5,
   "metadata": {},
   "outputs": [],
   "source": [
    "Xn=[]\n",
    "Xn1=[]\n",
    "def func(a):\n",
    "    X=0.3#正規化個体数\n",
    "    for i in range(1,401):\n",
    "        Xn.append(X)\n",
    "        Xnext=a*X*(1-X)\n",
    "        Xn1.append(Xnext)\n",
    "        X=Xnext\n",
    "    return Xn1[-100:]"
   ]
  },
  {
   "cell_type": "code",
   "execution_count": 6,
   "metadata": {},
   "outputs": [
    {
     "name": "stderr",
     "output_type": "stream",
     "text": [
      "<ipython-input-5-c45b2c707dd1>:7: RuntimeWarning: overflow encountered in double_scalars\n",
      "  Xnext=a*X*(1-X)\n"
     ]
    }
   ],
   "source": [
    "X=[]\n",
    "alpha=[]\n",
    "for a in np.arange(2,5,0.001):\n",
    "    X.append(func(a))"
   ]
  },
  {
   "cell_type": "code",
   "execution_count": 7,
   "metadata": {
    "scrolled": true
   },
   "outputs": [
    {
     "data": {
      "text/plain": [
       "[<matplotlib.lines.Line2D at 0x2628d3ad790>,\n",
       " <matplotlib.lines.Line2D at 0x2628d3ad880>,\n",
       " <matplotlib.lines.Line2D at 0x2628d3ad940>,\n",
       " <matplotlib.lines.Line2D at 0x2628d3ada00>,\n",
       " <matplotlib.lines.Line2D at 0x2628d3adac0>,\n",
       " <matplotlib.lines.Line2D at 0x2628d3adb80>,\n",
       " <matplotlib.lines.Line2D at 0x2628d3adc40>,\n",
       " <matplotlib.lines.Line2D at 0x2628d3add00>,\n",
       " <matplotlib.lines.Line2D at 0x2628d3addc0>,\n",
       " <matplotlib.lines.Line2D at 0x2628d3ade80>,\n",
       " <matplotlib.lines.Line2D at 0x26289234b80>,\n",
       " <matplotlib.lines.Line2D at 0x2628d3adfa0>,\n",
       " <matplotlib.lines.Line2D at 0x2628d3b80d0>,\n",
       " <matplotlib.lines.Line2D at 0x2628d3b8190>,\n",
       " <matplotlib.lines.Line2D at 0x2628d3b8250>,\n",
       " <matplotlib.lines.Line2D at 0x2628d3b8310>,\n",
       " <matplotlib.lines.Line2D at 0x2628d3b83d0>,\n",
       " <matplotlib.lines.Line2D at 0x2628d3b8490>,\n",
       " <matplotlib.lines.Line2D at 0x2628d3b8550>,\n",
       " <matplotlib.lines.Line2D at 0x2628d3b8610>,\n",
       " <matplotlib.lines.Line2D at 0x2628d3b86d0>,\n",
       " <matplotlib.lines.Line2D at 0x2628d3b8790>,\n",
       " <matplotlib.lines.Line2D at 0x2628d3b8850>,\n",
       " <matplotlib.lines.Line2D at 0x2628d3b8910>,\n",
       " <matplotlib.lines.Line2D at 0x2628d3b89d0>,\n",
       " <matplotlib.lines.Line2D at 0x2628d3b8ac0>,\n",
       " <matplotlib.lines.Line2D at 0x2628d3b8b80>,\n",
       " <matplotlib.lines.Line2D at 0x2628d3b8c40>,\n",
       " <matplotlib.lines.Line2D at 0x2628d3b8d00>,\n",
       " <matplotlib.lines.Line2D at 0x2628d3b8dc0>,\n",
       " <matplotlib.lines.Line2D at 0x2628d3b8eb0>,\n",
       " <matplotlib.lines.Line2D at 0x2628d3b8f70>,\n",
       " <matplotlib.lines.Line2D at 0x2628d3bf040>,\n",
       " <matplotlib.lines.Line2D at 0x2628d3bf130>,\n",
       " <matplotlib.lines.Line2D at 0x2628d3bf1f0>,\n",
       " <matplotlib.lines.Line2D at 0x2628d3bf2b0>,\n",
       " <matplotlib.lines.Line2D at 0x2628d3bf370>,\n",
       " <matplotlib.lines.Line2D at 0x2628d3bf430>,\n",
       " <matplotlib.lines.Line2D at 0x2628d3bf4f0>,\n",
       " <matplotlib.lines.Line2D at 0x2628d3bf5b0>,\n",
       " <matplotlib.lines.Line2D at 0x2628d3bf670>,\n",
       " <matplotlib.lines.Line2D at 0x2628d3bf730>,\n",
       " <matplotlib.lines.Line2D at 0x2628d3bf7f0>,\n",
       " <matplotlib.lines.Line2D at 0x2628d3bf8b0>,\n",
       " <matplotlib.lines.Line2D at 0x2628d3bf970>,\n",
       " <matplotlib.lines.Line2D at 0x2628d3bfa30>,\n",
       " <matplotlib.lines.Line2D at 0x2628d3bfaf0>,\n",
       " <matplotlib.lines.Line2D at 0x2628d3bfbb0>,\n",
       " <matplotlib.lines.Line2D at 0x2628d3bfc70>,\n",
       " <matplotlib.lines.Line2D at 0x2628d3bfd30>,\n",
       " <matplotlib.lines.Line2D at 0x2628d3bfdf0>,\n",
       " <matplotlib.lines.Line2D at 0x2628d3bfeb0>,\n",
       " <matplotlib.lines.Line2D at 0x2628d3bff70>,\n",
       " <matplotlib.lines.Line2D at 0x2628d3c6070>,\n",
       " <matplotlib.lines.Line2D at 0x2628d3c6130>,\n",
       " <matplotlib.lines.Line2D at 0x2628d3c61f0>,\n",
       " <matplotlib.lines.Line2D at 0x2628d3c62b0>,\n",
       " <matplotlib.lines.Line2D at 0x2628d3c6370>,\n",
       " <matplotlib.lines.Line2D at 0x2628d3c6430>,\n",
       " <matplotlib.lines.Line2D at 0x2628d3c64f0>,\n",
       " <matplotlib.lines.Line2D at 0x2628d3c65b0>,\n",
       " <matplotlib.lines.Line2D at 0x2628d3c6670>,\n",
       " <matplotlib.lines.Line2D at 0x2628d3c6730>,\n",
       " <matplotlib.lines.Line2D at 0x2628d3c67f0>,\n",
       " <matplotlib.lines.Line2D at 0x2628d3c68b0>,\n",
       " <matplotlib.lines.Line2D at 0x2628d3c6970>,\n",
       " <matplotlib.lines.Line2D at 0x2628d3c6a30>,\n",
       " <matplotlib.lines.Line2D at 0x2628d3c6af0>,\n",
       " <matplotlib.lines.Line2D at 0x2628d3c6bb0>,\n",
       " <matplotlib.lines.Line2D at 0x2628d3c6c70>,\n",
       " <matplotlib.lines.Line2D at 0x2628d3c6d30>,\n",
       " <matplotlib.lines.Line2D at 0x2628d3c6df0>,\n",
       " <matplotlib.lines.Line2D at 0x2628d3c6eb0>,\n",
       " <matplotlib.lines.Line2D at 0x2628d3c6f70>,\n",
       " <matplotlib.lines.Line2D at 0x2628d3cf070>,\n",
       " <matplotlib.lines.Line2D at 0x2628d3cf130>,\n",
       " <matplotlib.lines.Line2D at 0x2628d3cf1f0>,\n",
       " <matplotlib.lines.Line2D at 0x2628d3cf2b0>,\n",
       " <matplotlib.lines.Line2D at 0x2628d3cf370>,\n",
       " <matplotlib.lines.Line2D at 0x2628d3cf430>,\n",
       " <matplotlib.lines.Line2D at 0x2628d3cf4f0>,\n",
       " <matplotlib.lines.Line2D at 0x2628d3cf5b0>,\n",
       " <matplotlib.lines.Line2D at 0x2628d3cf670>,\n",
       " <matplotlib.lines.Line2D at 0x2628d3cf730>,\n",
       " <matplotlib.lines.Line2D at 0x2628d3cf7f0>,\n",
       " <matplotlib.lines.Line2D at 0x2628d3cf8b0>,\n",
       " <matplotlib.lines.Line2D at 0x2628d3cf970>,\n",
       " <matplotlib.lines.Line2D at 0x2628d3cfa30>,\n",
       " <matplotlib.lines.Line2D at 0x2628d3cfaf0>,\n",
       " <matplotlib.lines.Line2D at 0x2628d3cfbb0>,\n",
       " <matplotlib.lines.Line2D at 0x2628d3cfca0>,\n",
       " <matplotlib.lines.Line2D at 0x2628d3cfd60>,\n",
       " <matplotlib.lines.Line2D at 0x2628d3cfe50>,\n",
       " <matplotlib.lines.Line2D at 0x2628d3cff10>,\n",
       " <matplotlib.lines.Line2D at 0x2628d3cffd0>,\n",
       " <matplotlib.lines.Line2D at 0x2628d6260d0>,\n",
       " <matplotlib.lines.Line2D at 0x2628d626190>,\n",
       " <matplotlib.lines.Line2D at 0x2628d626250>,\n",
       " <matplotlib.lines.Line2D at 0x2628d626310>,\n",
       " <matplotlib.lines.Line2D at 0x2628d6263d0>]"
      ]
     },
     "execution_count": 7,
     "metadata": {},
     "output_type": "execute_result"
    },
    {
     "data": {
      "image/png": "[encoded data removed]",
      "text/plain": [
       "<Figure size 432x288 with 1 Axes>"
      ]
     },
     "metadata": {
      "needs_background": "light"
     },
     "output_type": "display_data"
    }
   ],
   "source": [
    "plt.plot(X)"
   ]
  },
  {
   "cell_type": "code",
   "execution_count": 11,
   "metadata": {},
   "outputs": [
    {
     "data": {
      "text/plain": [
       "3000"
      ]
     },
     "execution_count": 11,
     "metadata": {},
     "output_type": "execute_result"
    }
   ],
   "source": [
    "len(XZZ)"
   ]
  },
  {
   "cell_type": "code",
   "execution_count": null,
   "metadata": {},
   "outputs": [],
   "source": []
  }
 ],
 "metadata": {
  "kernelspec": {
   "display_name": "Python 3",
   "language": "python",
   "name": "python3"
  },
  "language_info": {
   "codemirror_mode": {
    "name": "ipython",
    "version": 3
   },
   "file_extension": ".py",
   "mimetype": "text/x-python",
   "name": "python",
   "nbconvert_exporter": "python",
   "pygments_lexer": "ipython3",
   "version": "3.8.3"
  }
 },
 "nbformat": 4,
 "nbformat_minor": 2
}
